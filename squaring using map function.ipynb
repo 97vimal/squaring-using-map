{
 "cells": [
  {
   "cell_type": "markdown",
   "id": "42c9b3e8",
   "metadata": {},
   "source": [
    "# squaring using map function"
   ]
  },
  {
   "cell_type": "code",
   "execution_count": null,
   "id": "ce370484",
   "metadata": {},
   "outputs": [],
   "source": [
    "# Sample List: [4, 5, 2, 9]"
   ]
  },
  {
   "cell_type": "code",
   "execution_count": 1,
   "id": "1c388810",
   "metadata": {},
   "outputs": [
    {
     "name": "stdout",
     "output_type": "stream",
     "text": [
      "Enter your List : [4, 5, 2, 9]\n",
      "The expected output is :  [16, 25, 4, 81]\n"
     ]
    }
   ],
   "source": [
    "input_list = eval(input(\"Enter your List : \"))\n",
    "final_output = map(lambda X:X**2 , input_list)\n",
    "print('The expected output is : ',list(final_output))"
   ]
  },
  {
   "cell_type": "code",
   "execution_count": null,
   "id": "d2d1eca4",
   "metadata": {},
   "outputs": [],
   "source": []
  },
  {
   "cell_type": "code",
   "execution_count": null,
   "id": "bea29c0c",
   "metadata": {},
   "outputs": [],
   "source": []
  },
  {
   "cell_type": "code",
   "execution_count": null,
   "id": "4d7e5faa",
   "metadata": {},
   "outputs": [],
   "source": [
    "cubing"
   ]
  },
  {
   "cell_type": "code",
   "execution_count": 2,
   "id": "98eec8d2",
   "metadata": {},
   "outputs": [
    {
     "name": "stdout",
     "output_type": "stream",
     "text": [
      "Enter your List : [4, 5, 2, 9]\n",
      "The expected output is :  [64, 125, 8, 729]\n"
     ]
    }
   ],
   "source": [
    "input_list = eval(input(\"Enter your List : \"))\n",
    "final_output = map(lambda X:X**3 , input_list)\n",
    "print('The expected output is : ',list(final_output))"
   ]
  },
  {
   "cell_type": "code",
   "execution_count": null,
   "id": "50ff27ef",
   "metadata": {},
   "outputs": [],
   "source": []
  }
 ],
 "metadata": {
  "kernelspec": {
   "display_name": "Python 3 (ipykernel)",
   "language": "python",
   "name": "python3"
  },
  "language_info": {
   "codemirror_mode": {
    "name": "ipython",
    "version": 3
   },
   "file_extension": ".py",
   "mimetype": "text/x-python",
   "name": "python",
   "nbconvert_exporter": "python",
   "pygments_lexer": "ipython3",
   "version": "3.9.7"
  }
 },
 "nbformat": 4,
 "nbformat_minor": 5
}
